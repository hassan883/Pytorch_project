{
  "nbformat": 4,
  "nbformat_minor": 0,
  "metadata": {
    "colab": {
      "provenance": []
    },
    "kernelspec": {
      "name": "python3",
      "display_name": "Python 3"
    },
    "language_info": {
      "name": "python"
    }
  },
  "cells": [
    {
      "cell_type": "code",
      "execution_count": null,
      "metadata": {
        "colab": {
          "base_uri": "https://localhost:8080/"
        },
        "id": "B_oGVaNAR4oW",
        "outputId": "dc5ac798-fc7a-4f08-b6b1-5c6168477ecc"
      },
      "outputs": [
        {
          "output_type": "stream",
          "name": "stdout",
          "text": [
            "2.1.0+cu121\n"
          ]
        }
      ],
      "source": [
        "import torch\n",
        "print(torch.__version__)"
      ]
    },
    {
      "cell_type": "code",
      "source": [
        "x = torch.tensor([1, 2, 3])\n",
        "print(x)"
      ],
      "metadata": {
        "colab": {
          "base_uri": "https://localhost:8080/"
        },
        "id": "qkehJClkSJqB",
        "outputId": "0c52197f-e2ac-4b28-f56c-daaebce0f73d"
      },
      "execution_count": null,
      "outputs": [
        {
          "output_type": "stream",
          "name": "stdout",
          "text": [
            "tensor([1, 2, 3])\n"
          ]
        }
      ]
    },
    {
      "cell_type": "code",
      "source": [
        "y = x + 5\n",
        "print(y)"
      ],
      "metadata": {
        "colab": {
          "base_uri": "https://localhost:8080/"
        },
        "id": "eg--eVkqakrn",
        "outputId": "aba353a1-d685-47b5-954d-cb679c4cc3b3"
      },
      "execution_count": null,
      "outputs": [
        {
          "output_type": "stream",
          "name": "stdout",
          "text": [
            "tensor([6, 7, 8])\n"
          ]
        }
      ]
    },
    {
      "cell_type": "code",
      "source": [],
      "metadata": {
        "id": "rp2u-K0OaxpP"
      },
      "execution_count": null,
      "outputs": []
    },
    {
      "cell_type": "code",
      "source": [
        "z = x.view(3, 1)\n",
        "print(z)"
      ],
      "metadata": {
        "colab": {
          "base_uri": "https://localhost:8080/"
        },
        "id": "GbQUOiHsanx0",
        "outputId": "6c421509-86af-42ea-ee70-16f33e76af7b"
      },
      "execution_count": null,
      "outputs": [
        {
          "output_type": "stream",
          "name": "stdout",
          "text": [
            "tensor([[1],\n",
            "        [2],\n",
            "        [3]])\n"
          ]
        }
      ]
    },
    {
      "cell_type": "code",
      "source": [
        "x = torch.tensor([1., 2., 3.], requires_grad=True)\n",
        "y = torch.tensor([4., 5., 6.], requires_grad=True)\n",
        "z = x * y\n",
        "print(z)"
      ],
      "metadata": {
        "colab": {
          "base_uri": "https://localhost:8080/"
        },
        "id": "Elz-sB6karM0",
        "outputId": "5fe3bfaa-2653-4d17-e379-bc1ef1f5dccd"
      },
      "execution_count": null,
      "outputs": [
        {
          "output_type": "stream",
          "name": "stdout",
          "text": [
            "tensor([ 4., 10., 18.], grad_fn=<MulBackward0>)\n"
          ]
        }
      ]
    },
    {
      "cell_type": "code",
      "source": [
        "z.backward(torch.tensor([1., 1., 1.]))\n",
        "print(x.grad)\n",
        "print(y.grad)"
      ],
      "metadata": {
        "colab": {
          "base_uri": "https://localhost:8080/"
        },
        "id": "a6HG3w9nbuzp",
        "outputId": "f557354a-8306-4478-a2fb-46df489e3e61"
      },
      "execution_count": null,
      "outputs": [
        {
          "output_type": "stream",
          "name": "stdout",
          "text": [
            "tensor([4., 5., 6.])\n",
            "tensor([1., 2., 3.])\n"
          ]
        }
      ]
    },
    {
      "cell_type": "markdown",
      "source": [
        "# **Building the basic NN**"
      ],
      "metadata": {
        "id": "N6hNiQ3Hcsoj"
      }
    },
    {
      "cell_type": "code",
      "source": [
        "import torch\n",
        "import torch.nn as nn\n",
        "import torch.nn.functional as F\n",
        "import torch.optim as optim"
      ],
      "metadata": {
        "id": "1a19kcOCcsIU"
      },
      "execution_count": null,
      "outputs": []
    },
    {
      "cell_type": "code",
      "source": [
        "class SimpleNet(nn.Module):\n",
        "    def __init__(self):\n",
        "        super(SimpleNet, self).__init__()\n",
        "\n",
        "        self.fc1 = nn.Linear(3, 3)\n",
        "        self.fc2 = nn.Linear(3, 2)\n",
        "        self.fc3 = nn.Linear(2, 1)\n",
        "\n",
        "    def forward(self, x):\n",
        "\n",
        "        x = F.relu(self.fc1(x))\n",
        "        x = F.relu(self.fc2(x))\n",
        "        x = self.fc3(x)\n",
        "\n",
        "        return x\n",
        "\n",
        "net = SimpleNet()\n",
        "print(net)\n",
        "print(net(x))\n",
        "print(x.shape)\n",
        "print(net(y))\n",
        "print(y)"
      ],
      "metadata": {
        "colab": {
          "base_uri": "https://localhost:8080/"
        },
        "id": "DOk7tD6xb0B1",
        "outputId": "12da293a-f7e2-45cc-cd0b-593dee20f42f"
      },
      "execution_count": null,
      "outputs": [
        {
          "output_type": "stream",
          "name": "stdout",
          "text": [
            "SimpleNet(\n",
            "  (fc1): Linear(in_features=3, out_features=3, bias=True)\n",
            "  (fc2): Linear(in_features=3, out_features=2, bias=True)\n",
            "  (fc3): Linear(in_features=2, out_features=1, bias=True)\n",
            ")\n",
            "tensor([-0.0759], grad_fn=<ViewBackward0>)\n",
            "torch.Size([3])\n",
            "tensor([-0.0759], grad_fn=<ViewBackward0>)\n",
            "tensor([4., 5., 6.], requires_grad=True)\n"
          ]
        }
      ]
    },
    {
      "cell_type": "code",
      "source": [
        "criterion = nn.MSELoss()\n",
        "optimizer = optim.SGD(net.parameters(), lr = 0.01)\n",
        "\n",
        "\n",
        "\n",
        "inputs = torch.randn(1,3)\n",
        "print(\"Shape of the Inputs : \", inputs.shape)\n",
        "print(\"Input Data : \", inputs)\n",
        "targets = torch.randn(1,1)\n",
        "print(\"Shape of the Targets : \", targets.shape)\n",
        "\n",
        "outputs = net(inputs)\n",
        "loss = criterion(outputs, targets)\n",
        "\n",
        "print(\"Loss : \", loss)\n",
        "\n",
        "optimizer.zero_grad()\n",
        "loss.backward()\n",
        "optimizer.step()"
      ],
      "metadata": {
        "colab": {
          "base_uri": "https://localhost:8080/"
        },
        "id": "9JyJSYLUe693",
        "outputId": "5629137c-0cb4-4221-87dc-4fbeddd7edcd"
      },
      "execution_count": null,
      "outputs": [
        {
          "output_type": "stream",
          "name": "stdout",
          "text": [
            "Shape of the Inputs :  torch.Size([1, 3])\n",
            "Input Data :  tensor([[-0.9527, -0.4139, -0.1961]])\n",
            "Shape of the Targets :  torch.Size([1, 1])\n",
            "Loss :  tensor(0.0979, grad_fn=<MseLossBackward0>)\n"
          ]
        }
      ]
    },
    {
      "cell_type": "code",
      "source": [
        "num_epochs = 50\n",
        "\n",
        "for epoch in range(num_epochs):\n",
        "\n",
        "\n",
        "    outputs = net(inputs)\n",
        "    loss = criterion(outputs, targets)\n",
        "\n",
        "    optimizer.zero_grad()\n",
        "    loss.backward()\n",
        "    optimizer.step()\n",
        "\n",
        "    print(\"Epoch : \", epoch, \" Loss : \", loss.item())"
      ],
      "metadata": {
        "colab": {
          "base_uri": "https://localhost:8080/"
        },
        "id": "KWLdnQGdhvj2",
        "outputId": "be99eb33-7d6b-4ae8-d585-b9af23a7e2bb"
      },
      "execution_count": null,
      "outputs": [
        {
          "output_type": "stream",
          "name": "stdout",
          "text": [
            "Epoch :  0  Loss :  0.052383892238140106\n",
            "Epoch :  1  Loss :  0.05030948668718338\n",
            "Epoch :  2  Loss :  0.04831722751259804\n",
            "Epoch :  3  Loss :  0.046403881162405014\n",
            "Epoch :  4  Loss :  0.04456627368927002\n",
            "Epoch :  5  Loss :  0.04280144348740578\n",
            "Epoch :  6  Loss :  0.041106484830379486\n",
            "Epoch :  7  Loss :  0.03947868570685387\n",
            "Epoch :  8  Loss :  0.03791533410549164\n",
            "Epoch :  9  Loss :  0.036413900554180145\n",
            "Epoch :  10  Loss :  0.03497191146016121\n",
            "Epoch :  11  Loss :  0.0335870124399662\n",
            "Epoch :  12  Loss :  0.032256972044706345\n",
            "Epoch :  13  Loss :  0.030979609116911888\n",
            "Epoch :  14  Loss :  0.02975280024111271\n",
            "Epoch :  15  Loss :  0.028574589639902115\n",
            "Epoch :  16  Loss :  0.027443045750260353\n",
            "Epoch :  17  Loss :  0.026356302201747894\n",
            "Epoch :  18  Loss :  0.025312600657343864\n",
            "Epoch :  19  Loss :  0.024310236796736717\n",
            "Epoch :  20  Loss :  0.023347537964582443\n",
            "Epoch :  21  Loss :  0.022422989830374718\n",
            "Epoch :  22  Loss :  0.021535029634833336\n",
            "Epoch :  23  Loss :  0.02068225108087063\n",
            "Epoch :  24  Loss :  0.019863229244947433\n",
            "Epoch :  25  Loss :  0.01907665655016899\n",
            "Epoch :  26  Loss :  0.018321232870221138\n",
            "Epoch :  27  Loss :  0.01759571023285389\n",
            "Epoch :  28  Loss :  0.01689891330897808\n",
            "Epoch :  29  Loss :  0.01622970774769783\n",
            "Epoch :  30  Loss :  0.015587025322020054\n",
            "Epoch :  31  Loss :  0.014969779178500175\n",
            "Epoch :  32  Loss :  0.014376979321241379\n",
            "Epoch :  33  Loss :  0.013807638548314571\n",
            "Epoch :  34  Loss :  0.013260861858725548\n",
            "Epoch :  35  Loss :  0.012735730037093163\n",
            "Epoch :  36  Loss :  0.012231383472681046\n",
            "Epoch :  37  Loss :  0.011747016571462154\n",
            "Epoch :  38  Loss :  0.01128182839602232\n",
            "Epoch :  39  Loss :  0.010835070163011551\n",
            "Epoch :  40  Loss :  0.010405994020402431\n",
            "Epoch :  41  Loss :  0.00999392569065094\n",
            "Epoch :  42  Loss :  0.009598169475793839\n",
            "Epoch :  43  Loss :  0.009218074381351471\n",
            "Epoch :  44  Loss :  0.008853037841618061\n",
            "Epoch :  45  Loss :  0.00850245263427496\n",
            "Epoch :  46  Loss :  0.008165756240487099\n",
            "Epoch :  47  Loss :  0.007842385210096836\n",
            "Epoch :  48  Loss :  0.007531836163252592\n",
            "Epoch :  49  Loss :  0.007233581505715847\n"
          ]
        }
      ]
    },
    {
      "cell_type": "code",
      "source": [
        "for name, param in net.named_parameters():\n",
        "  print(name, param.size())\n",
        "  print(param)"
      ],
      "metadata": {
        "colab": {
          "base_uri": "https://localhost:8080/"
        },
        "id": "XPt5Pmsij_e3",
        "outputId": "00a0a073-c6a5-4027-e622-9f5f018baf6a"
      },
      "execution_count": null,
      "outputs": [
        {
          "output_type": "stream",
          "name": "stdout",
          "text": [
            "fc1.weight torch.Size([3, 3])\n",
            "Parameter containing:\n",
            "tensor([[-0.0746,  0.2847, -0.5018],\n",
            "        [-0.3122,  0.0963,  0.4010],\n",
            "        [ 0.2448, -0.0253,  0.5576]], requires_grad=True)\n",
            "fc1.bias torch.Size([3])\n",
            "Parameter containing:\n",
            "tensor([ 0.3520, -0.0636,  0.1937], requires_grad=True)\n",
            "fc2.weight torch.Size([2, 3])\n",
            "Parameter containing:\n",
            "tensor([[-0.4812,  0.0066, -0.3202],\n",
            "        [ 0.2105, -0.3958, -0.4867]], requires_grad=True)\n",
            "fc2.bias torch.Size([2])\n",
            "Parameter containing:\n",
            "tensor([ 0.1862, -0.0551], requires_grad=True)\n",
            "fc3.weight torch.Size([1, 2])\n",
            "Parameter containing:\n",
            "tensor([[-0.6404,  0.0480]], requires_grad=True)\n",
            "fc3.bias torch.Size([1])\n",
            "Parameter containing:\n",
            "tensor([1.4845], requires_grad=True)\n"
          ]
        }
      ]
    },
    {
      "cell_type": "code",
      "source": [],
      "metadata": {
        "id": "FlVH_-khllvX"
      },
      "execution_count": null,
      "outputs": []
    }
  ]
}